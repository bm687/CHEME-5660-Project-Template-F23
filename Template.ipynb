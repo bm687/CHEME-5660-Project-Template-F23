{
 "cells": [
  {
   "cell_type": "markdown",
   "id": "80ae6a55-e35b-401a-9fd2-353207a8b340",
   "metadata": {},
   "source": [
    "# Your Title Information Goes Here\n",
    "Solo Jacket Project"
   ]
  },
  {
   "cell_type": "markdown",
   "id": "cac5eb3a-be19-4274-8400-09af3e83ff21",
   "metadata": {
    "tags": []
   },
   "source": [
    "## Setup"
   ]
  },
  {
   "cell_type": "code",
   "execution_count": 1,
   "id": "c428c856-064a-4a35-97bc-800cc0d49a58",
   "metadata": {
    "tags": []
   },
   "outputs": [
    {
     "name": "stderr",
     "output_type": "stream",
     "text": [
      "\u001b[32m\u001b[1m    Updating\u001b[22m\u001b[39m git-repo `https://github.com/varnerlab/VLQuantitativeFinancePackage.jl.git`\n"
     ]
    },
    {
     "name": "stderr",
     "output_type": "stream",
     "text": [
      "\u001b[32m\u001b[1m   Resolving\u001b[22m\u001b[39m package versions...\n"
     ]
    },
    {
     "name": "stderr",
     "output_type": "stream",
     "text": [
      "\u001b[32m\u001b[1m  No Changes\u001b[22m\u001b[39m to `~/Documents/GitHub/CHEME-5660-Project-Template-F23/Project.toml`\n",
      "\u001b[32m\u001b[1m    Updating\u001b[22m\u001b[39m `~/Documents/GitHub/CHEME-5660-Project-Template-F23/Manifest.toml`\n",
      "  \u001b[90m[79e6a3ab] \u001b[39m\u001b[93m↑ Adapt v3.7.1 ⇒ v3.7.2\u001b[39m\n",
      "  \u001b[90m[7a1cc6ca] \u001b[39m\u001b[93m↑ FFTW v1.7.1 ⇒ v1.7.2\u001b[39m\n",
      "  \u001b[90m[1a297f60] \u001b[39m\u001b[93m↑ FillArrays v1.9.2 ⇒ v1.9.3\u001b[39m\n",
      "  \u001b[90m[5ab0869b] \u001b[39m\u001b[93m↑ KernelDensity v0.6.7 ⇒ v0.6.8\u001b[39m\n",
      "  \u001b[90m[5c8ed15e] \u001b[39m\u001b[93m↑ LinearOperators v2.5.2 ⇒ v2.6.0\u001b[39m\n",
      "  \u001b[90m[b8a86587] \u001b[39m\u001b[93m↑ NearestNeighbors v0.4.13 ⇒ v0.4.15\u001b[39m\n",
      "  \u001b[90m[90014a1f] \u001b[39m\u001b[93m↑ PDMats v0.11.30 ⇒ v0.11.31\u001b[39m\n",
      "  \u001b[90m[90137ffa] \u001b[39m\u001b[93m↑ StaticArrays v1.7.0 ⇒ v1.8.0\u001b[39m\n",
      "  \u001b[90m[aacddb02] \u001b[39m\u001b[93m↑ JpegTurbo_jll v2.1.91+0 ⇒ v3.0.1+0\u001b[39m\n",
      "  \u001b[90m[856f044c] \u001b[39m\u001b[93m↑ MKL_jll v2023.2.0+0 ⇒ v2024.0.0+0\u001b[39m\n",
      "  \u001b[90m[b53b4c65] \u001b[39m\u001b[93m↑ libpng_jll v1.6.38+1 ⇒ v1.6.40+0\u001b[39m\n"
     ]
    },
    {
     "name": "stderr",
     "output_type": "stream",
     "text": [
      "\u001b[32m\u001b[1mPrecompiling\u001b[22m\u001b[39m "
     ]
    },
    {
     "name": "stderr",
     "output_type": "stream",
     "text": [
      "project...\n"
     ]
    },
    {
     "name": "stderr",
     "output_type": "stream",
     "text": [
      "\u001b[32m  ✓ \u001b[39mDistributions\n"
     ]
    },
    {
     "name": "stderr",
     "output_type": "stream",
     "text": [
      "\u001b[32m  ✓ \u001b[39m\u001b[90mDistributions → DistributionsTestExt\u001b[39m\n"
     ]
    },
    {
     "name": "stderr",
     "output_type": "stream",
     "text": [
      "\u001b[32m  ✓ \u001b[39m\u001b[90mDistributions → DistributionsChainRulesCoreExt\u001b[39m\n"
     ]
    },
    {
     "name": "stderr",
     "output_type": "stream",
     "text": [
      "\u001b[32m  ✓ \u001b[39m\u001b[90mLsqFit\u001b[39m\n"
     ]
    },
    {
     "name": "stderr",
     "output_type": "stream",
     "text": [
      "\u001b[32m  ✓ \u001b[39m\u001b[90mKernelDensity\u001b[39m\n"
     ]
    },
    {
     "name": "stderr",
     "output_type": "stream",
     "text": [
      "\u001b[32m  ✓ \u001b[39mStatsPlots\n"
     ]
    },
    {
     "name": "stderr",
     "output_type": "stream",
     "text": [
      "\u001b[32m  ✓ \u001b[39mVLQuantitativeFinancePackage\n",
      "  7 dependencies successfully precompiled in 12 seconds. 249 already precompiled.\n",
      "\u001b[32m\u001b[1m  Activating\u001b[22m\u001b[39m project at `~/Documents/GitHub/CHEME-5660-Project-Template-F23`\n"
     ]
    },
    {
     "name": "stderr",
     "output_type": "stream",
     "text": [
      "\u001b[32m\u001b[1m  No Changes\u001b[22m\u001b[39m to `~/Documents/GitHub/CHEME-5660-Project-Template-F23/Project.toml`\n",
      "\u001b[32m\u001b[1m  No Changes\u001b[22m\u001b[39m to `~/Documents/GitHub/CHEME-5660-Project-Template-F23/Manifest.toml`\n"
     ]
    },
    {
     "name": "stderr",
     "output_type": "stream",
     "text": [
      "\u001b[32m\u001b[1m    Updating\u001b[22m\u001b[39m registry at `~/.julia/registries/General.toml`\n"
     ]
    },
    {
     "name": "stderr",
     "output_type": "stream",
     "text": [
      "\u001b[32m\u001b[1m    Updating\u001b[22m\u001b[39m git-repo `https://github.com/varnerlab/VLQuantitativeFinancePackage.jl.git`\n"
     ]
    },
    {
     "name": "stderr",
     "output_type": "stream",
     "text": [
      "\u001b[32m\u001b[1m    Updating\u001b[22m\u001b[39m `~/Documents/GitHub/CHEME-5660-Project-Template-F23/Project.toml`\n",
      "  \u001b[90m[31c24e10] \u001b[39m\u001b[93m↑ Distributions v0.25.103 ⇒ v0.25.104\u001b[39m\n",
      "\u001b[32m\u001b[1m    Updating\u001b[22m\u001b[39m `~/Documents/GitHub/CHEME-5660-Project-Template-F23/Manifest.toml`\n",
      "  \u001b[90m[31c24e10] \u001b[39m\u001b[93m↑ Distributions v0.25.103 ⇒ v0.25.104\u001b[39m\n"
     ]
    }
   ],
   "source": [
    "include(\"Include.jl\");"
   ]
  },
  {
   "cell_type": "markdown",
   "id": "21519cf1-3079-4a5a-8859-fd21f48bce94",
   "metadata": {
    "tags": []
   },
   "source": [
    "## Prerequisites: Load historical dataset, compute expected returns and get 2023 `SPY` data\n",
    "We gathered a daily open-high-low-close `dataset` for each firm in the [S&P500](https://en.wikipedia.org/wiki/S%26P_500) since `01-03-2018` until `12-01-2023`, along with data for a few exchange traded funds and volatility products during that time. "
   ]
  },
  {
   "cell_type": "code",
   "execution_count": 8,
   "id": "79aa4361-4713-47c5-9892-8d822e7aac68",
   "metadata": {
    "tags": []
   },
   "outputs": [],
   "source": [
    "original_dataset = load(joinpath(_PATH_TO_DATA, \n",
    "        \"SP500-Daily-OHLC-1-3-2018-to-12-01-2023.jld2\")) |> x-> x[\"dataset\"];"
   ]
  },
  {
   "cell_type": "markdown",
   "id": "d5567fb5-3688-4fe7-8cc9-201119de77f5",
   "metadata": {},
   "source": [
    "### Clean the data\n",
    "Not all of the tickers in our dataset have the maximum number of trading days for various reasons, e.g., acquistion or de-listing events. Let's collect only those tickers with the maximum number of trading days.\n",
    "\n",
    "* First, let's compute the number of records for a company that we know has a maximim value, e.g., `AAPL` and save that value in the `maximum_number_trading_days` variable:"
   ]
  },
  {
   "cell_type": "code",
   "execution_count": 9,
   "id": "5e88a72f-9231-459a-99bc-f0fdccc6e42d",
   "metadata": {
    "tags": []
   },
   "outputs": [],
   "source": [
    "maximum_number_trading_days = original_dataset[\"AAPL\"] |> nrow;"
   ]
  },
  {
   "cell_type": "markdown",
   "id": "d3b64e6f-3662-48fe-bcec-ba6da19f60f9",
   "metadata": {},
   "source": [
    "Now, lets iterate through our data and collect only those tickers that have `maximum_number_trading_days` records. Save that data in the `dataset::Dict{String,DataFrame}` variable:"
   ]
  },
  {
   "cell_type": "code",
   "execution_count": 10,
   "id": "9b263c2a-7cb2-42ef-a700-b857aeb22f8e",
   "metadata": {
    "tags": []
   },
   "outputs": [],
   "source": [
    "dataset = Dict{String,DataFrame}();\n",
    "for (ticker,data) ∈ original_dataset\n",
    "    if (nrow(data) == maximum_number_trading_days)\n",
    "        dataset[ticker] = data;\n",
    "    end\n",
    "end\n",
    "dataset;"
   ]
  },
  {
   "cell_type": "markdown",
   "id": "5ffb1bec-88c3-4648-b7e9-9b1300504b4a",
   "metadata": {},
   "source": [
    "Let's get a list of firms that we have in cleaned up `dataset`, and save it in the `all_tickers` array:"
   ]
  },
  {
   "cell_type": "code",
   "execution_count": 11,
   "id": "93f5fc90-048c-4e23-83da-8a362b297f77",
   "metadata": {
    "tags": []
   },
   "outputs": [],
   "source": [
    "all_tickers = keys(dataset) |> collect |> sort;\n",
    "K = length(all_tickers);"
   ]
  },
  {
   "cell_type": "markdown",
   "id": "1266557c-c5ce-4c67-9f93-7dcdb3038e26",
   "metadata": {},
   "source": [
    "### Get the 2023 `SPY` data"
   ]
  },
  {
   "cell_type": "code",
   "execution_count": 12,
   "id": "b700d807-61d8-4d3c-8c78-0908bcd81855",
   "metadata": {
    "tags": []
   },
   "outputs": [],
   "source": [
    "startdate = Date(2023,01,03);\n",
    "SPY_dataset = dataset[\"SPY\"];\n",
    "SPY_df = filter(:timestamp => x-> x >= startdate, SPY_dataset);"
   ]
  },
  {
   "cell_type": "markdown",
   "id": "9d07c6db-65c2-424b-878e-652936db2032",
   "metadata": {},
   "source": [
    "### Compute the expected return for all firms in the dataset\n",
    "The expected return $\\mathbb{E}(r_{i})$ and covariance matrix $\\Sigma$ will be used in our calculations, so we'll provide values for both of these items for the entire data set (all `N = 459` tickers), and then you can pick out which tickers you are interested in. \n",
    "\n",
    "* First, we compute the expected (annualized) log return by passing the `dataset` and the entire list of firms we have in the dataset (held in the $N\\times{1}$ `all_array` array) to the `log_return_matrix(...)` method. The result is stored in the `all_firms_return_matrix` variable, a $T-1\\times{N}$ array of log return values. Each row of `all_firms_return_matrix` corresponds to a time-value, while each column corresponds to a firm:"
   ]
  },
  {
   "cell_type": "code",
   "execution_count": 13,
   "id": "870a7ff9-d78c-4313-8e75-92cc67dc0858",
   "metadata": {
    "tags": []
   },
   "outputs": [],
   "source": [
    "all_firms_return_matrix = log_return_matrix(dataset, all_tickers, \n",
    "    Δt = (1.0/252.0), risk_free_rate = 0.0);"
   ]
  },
  {
   "cell_type": "markdown",
   "id": "2347705b-730c-44c2-ab83-4be788669bd9",
   "metadata": {},
   "source": [
    "## Your project starts here ...."
   ]
  },
  {
   "cell_type": "code",
   "execution_count": 14,
   "id": "333476f6-b931-4477-85e4-5cf8d2e5a50a",
   "metadata": {
    "tags": []
   },
   "outputs": [],
   "source": [
    "## Fill me in\n",
    "#Lets get started \n",
    "μ = mean(all_firms_return_matrix, dims=1) |> vec;"
   ]
  },
  {
   "cell_type": "markdown",
   "id": "86d241b7",
   "metadata": {},
   "source": [
    "Now before doing anything else lets break down what we need to achieve:\n",
    "1. Identify Capital and Operating Costs:\n",
    "Capital Expenses:\n",
    "Building and Equipment: $5 million\n",
    "Annual Operating Expenses (for each clinic):\n",
    "Staffing (2 doctors, 3 Physician Assistants): 5 * (2 + 3) * Median Local Annual Wage\n",
    "Supply and Utility Costs: $10,000 * 12\n",
    "Total Operating Expenses per Clinic: Sum of Staffing and Supply/Utility Costs\n",
    "Total Annual Operating Expenses (16 clinics): 16 * Total Operating Expenses per Clinic\n",
    "2. Structure the Endowment:\n",
    "Determine the annual endowment amount required to cover operating expenses and 20% reinvestment payment.\n",
    "Ensure the face value of the endowment covers the initial capital expense ($5 million).\n",
    "3. Quantify the Initial Grant Size and Develop an Investment Portfolio:\n",
    "Use historical risky asset pricing data (2018-2022) and risk-free auction data (2022) to define an investment portfolio.\n",
    "Evaluate portfolio performance based on 2023 data.\n",
    "If the portfolio doesn't meet obligations, consider reallocating assets.\n",
    "\n",
    "\n",
    "Average salary for physician assistant: 57,719,800 UGX or 15,228.39 United States Dollar #https://worldsalaries.com/average-physician-assistant-salary-in-kampala/uganda/\n",
    "Average salary for doctors: 89,281,500 UGX or 23,555.41 United States Dollar #https://worldsalaries.com/average-doctor-salary-in-kampala/uganda/\n"
   ]
  },
  {
   "cell_type": "code",
   "execution_count": 26,
   "id": "2a62d99b",
   "metadata": {},
   "outputs": [
    {
     "name": "stdout",
     "output_type": "stream",
     "text": [
      "Total Operating Expenses per Clinic (USD): 212795.99\n",
      "Total Annual Operating Expenses for All Clinics (USD): 3191939.85\n",
      "Present Value of Total Annual Operating Expenses over 10 years (USD): 1959574.18\n",
      "Present Value of Total Capital Expenses (building and equipment) over 10 years (USD): 3069566.27\n"
     ]
    }
   ],
   "source": [
    "# Constants\n",
    "discount_rate = 0.05\n",
    "number_of_clinics = 15\n",
    "monthly_utility_costs_usd = 10000\n",
    "initial_building_and_equipment_expense_usd = 5000000\n",
    "\n",
    "# Function to calculate present value using discounting\n",
    "function present_value(future_value, discount_rate, years)\n",
    "    return future_value / (1 + discount_rate)^years\n",
    "end\n",
    "\n",
    "# Operating Expenses Calculation\n",
    "pa_salary_usd = 15228.39 * 3  # 3 Physician Assistants per clinic\n",
    "doctor_salary_usd = 23555.41 * 2  # 2 Doctors per clinic\n",
    "\n",
    "# Total Staffing Cost per Clinic\n",
    "total_staffing_cost_per_clinic_usd = pa_salary_usd + doctor_salary_usd\n",
    "\n",
    "# Monthly Supply and Utility Costs per Clinic\n",
    "total_supply_utility_costs_per_clinic_usd = monthly_utility_costs_usd * 12\n",
    "\n",
    "# Total Operating Expenses per Clinic\n",
    "total_operating_expenses_per_clinic_usd = total_staffing_cost_per_clinic_usd + total_supply_utility_costs_per_clinic_usd\n",
    "\n",
    "# Total Annual Operating Expenses for All Clinics\n",
    "total_annual_operating_expenses_usd = total_operating_expenses_per_clinic_usd * number_of_clinics\n",
    "\n",
    "# Present Value of Total Annual Operating Expenses over 10 years (discounted)\n",
    "present_value_total_annual_expenses_usd = present_value(total_annual_operating_expenses_usd, discount_rate, 10)\n",
    "\n",
    "# Present Value of Total Capital Expenses (building and equipment) over 10 years (discounted)\n",
    "present_value_building_and_equipment_expense_usd = present_value(initial_building_and_equipment_expense_usd, discount_rate, 10)\n",
    "\n",
    "using Printf\n",
    "\n",
    "\n",
    "\n",
    "println(\"Total Operating Expenses per Clinic (USD): $(@sprintf(\"%.2f\", total_operating_expenses_per_clinic_usd))\")\n",
    "println(\"Total Annual Operating Expenses for All Clinics (USD): $(@sprintf(\"%.2f\", total_annual_operating_expenses_usd))\")\n",
    "println(\"Present Value of Total Annual Operating Expenses over 10 years (USD): $(@sprintf(\"%.2f\", present_value_total_annual_expenses_usd))\")\n",
    "println(\"Present Value of Total Capital Expenses (building and equipment) over 10 years (USD): $(@sprintf(\"%.2f\", present_value_building_and_equipment_expense_usd))\")\n"
   ]
  },
  {
   "cell_type": "markdown",
   "id": "b3b5cd21-bb87-4bb0-b2e3-29391ba3859f",
   "metadata": {},
   "source": [
    "## Disclaimer and Risks\n",
    "__This content is offered solely for training and  informational purposes__. No offer or solicitation to buy or sell securities or derivative products, or any investment or trading advice or strategy,  is made, given, or endorsed by the teaching team. \n",
    "\n",
    "__Trading involves risk__. Carefully review your financial situation before investing in securities, futures contracts, options, or commodity interests. Past performance, whether actual or indicated by historical tests of strategies, is no guarantee of future performance or success. Trading is generally inappropriate for someone with limited resources, investment or trading experience, or a low-risk tolerance.  Only risk capital that is not required for living expenses.\n",
    "\n",
    "__You are fully responsible for any investment or trading decisions you make__. Such decisions should be based solely on your evaluation of your financial circumstances, investment or trading objectives, risk tolerance, and liquidity needs."
   ]
  }
 ],
 "metadata": {
  "kernelspec": {
   "display_name": "Julia 1.9.3",
   "language": "julia",
   "name": "julia-1.9"
  },
  "language_info": {
   "file_extension": ".jl",
   "mimetype": "application/julia",
   "name": "julia",
   "version": "1.9.3"
  }
 },
 "nbformat": 4,
 "nbformat_minor": 5
}
