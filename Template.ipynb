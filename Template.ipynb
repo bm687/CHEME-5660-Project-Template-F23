{
 "cells": [
  {
   "cell_type": "markdown",
   "id": "80ae6a55-e35b-401a-9fd2-353207a8b340",
   "metadata": {},
   "source": [
    "# Your Title Information Goes Here\n",
    "Fill me in"
   ]
  },
  {
   "cell_type": "markdown",
   "id": "cac5eb3a-be19-4274-8400-09af3e83ff21",
   "metadata": {
    "tags": []
   },
   "source": [
    "## Setup"
   ]
  },
  {
   "cell_type": "code",
   "execution_count": 1,
   "id": "c428c856-064a-4a35-97bc-800cc0d49a58",
   "metadata": {
    "tags": []
   },
   "outputs": [
    {
     "name": "stderr",
     "output_type": "stream",
     "text": [
      "\u001b[32m\u001b[1m    Updating\u001b[22m\u001b[39m git-repo `https://github.com/varnerlab/VLQuantitativeFinancePackage.jl.git`\n",
      "\u001b[32m\u001b[1m   Resolving\u001b[22m\u001b[39m package versions...\n",
      "\u001b[32m\u001b[1m  No Changes\u001b[22m\u001b[39m to `~/Desktop/julia_work/CHEME-5660-Project-Template-F23/Project.toml`\n",
      "\u001b[32m\u001b[1m  No Changes\u001b[22m\u001b[39m to `~/Desktop/julia_work/CHEME-5660-Project-Template-F23/Manifest.toml`\n",
      "\u001b[32m\u001b[1m  Activating\u001b[22m\u001b[39m project at `~/Desktop/julia_work/CHEME-5660-Project-Template-F23`\n",
      "\u001b[32m\u001b[1m  No Changes\u001b[22m\u001b[39m to `~/Desktop/julia_work/CHEME-5660-Project-Template-F23/Project.toml`\n",
      "\u001b[32m\u001b[1m  No Changes\u001b[22m\u001b[39m to `~/Desktop/julia_work/CHEME-5660-Project-Template-F23/Manifest.toml`\n",
      "\u001b[32m\u001b[1m    Updating\u001b[22m\u001b[39m registry at `~/.julia/registries/General.toml`\n",
      "\u001b[32m\u001b[1m    Updating\u001b[22m\u001b[39m git-repo `https://github.com/varnerlab/VLQuantitativeFinancePackage.jl.git`\n",
      "\u001b[32m\u001b[1m  No Changes\u001b[22m\u001b[39m to `~/Desktop/julia_work/CHEME-5660-Project-Template-F23/Project.toml`\n",
      "\u001b[32m\u001b[1m    Updating\u001b[22m\u001b[39m `~/Desktop/julia_work/CHEME-5660-Project-Template-F23/Manifest.toml`\n",
      "  \u001b[90m[6e4b80f9] \u001b[39m\u001b[93m↑ BenchmarkTools v1.3.2 ⇒ v1.4.0\u001b[39m\n",
      "  \u001b[90m[1a297f60] \u001b[39m\u001b[93m↑ FillArrays v1.8.0 ⇒ v1.9.2\u001b[39m\n",
      "  \u001b[90m[4076af6c] \u001b[39m\u001b[93m↑ JuMP v1.16.0 ⇒ v1.17.0\u001b[39m\n",
      "  \u001b[90m[1d5cc7b8] \u001b[39m\u001b[93m↑ IntelOpenMP_jll v2023.2.0+0 ⇒ v2024.0.0+0\u001b[39m\n",
      "  \u001b[90m[02c8fc9c] \u001b[39m\u001b[93m↑ XML2_jll v2.12.0+0 ⇒ v2.12.2+0\u001b[39m\n",
      "  \u001b[90m[b53b4c65] \u001b[39m\u001b[93m↑ libpng_jll v1.6.38+0 ⇒ v1.6.38+1\u001b[39m\n"
     ]
    }
   ],
   "source": [
    "include(\"Include.jl\");"
   ]
  },
  {
   "cell_type": "markdown",
   "id": "21519cf1-3079-4a5a-8859-fd21f48bce94",
   "metadata": {
    "tags": []
   },
   "source": [
    "## Prerequisites: Load historical dataset, compute expected returns and get 2023 `SPY` data\n",
    "We gathered a daily open-high-low-close `dataset` for each firm in the [S&P500](https://en.wikipedia.org/wiki/S%26P_500) since `01-03-2018` until `12-01-2023`, along with data for a few exchange traded funds and volatility products during that time. "
   ]
  },
  {
   "cell_type": "code",
   "execution_count": 2,
   "id": "79aa4361-4713-47c5-9892-8d822e7aac68",
   "metadata": {
    "tags": []
   },
   "outputs": [],
   "source": [
    "original_dataset = load(joinpath(_PATH_TO_DATA, \n",
    "        \"SP500-Daily-OHLC-1-3-2018-to-12-01-2023.jld2\")) |> x-> x[\"dataset\"];"
   ]
  },
  {
   "cell_type": "markdown",
   "id": "d5567fb5-3688-4fe7-8cc9-201119de77f5",
   "metadata": {},
   "source": [
    "### Clean the data\n",
    "Not all of the tickers in our dataset have the maximum number of trading days for various reasons, e.g., acquistion or de-listing events. Let's collect only those tickers with the maximum number of trading days.\n",
    "\n",
    "* First, let's compute the number of records for a company that we know has a maximim value, e.g., `AAPL` and save that value in the `maximum_number_trading_days` variable:"
   ]
  },
  {
   "cell_type": "code",
   "execution_count": 3,
   "id": "5e88a72f-9231-459a-99bc-f0fdccc6e42d",
   "metadata": {
    "tags": []
   },
   "outputs": [],
   "source": [
    "maximum_number_trading_days = original_dataset[\"AAPL\"] |> nrow;"
   ]
  },
  {
   "cell_type": "markdown",
   "id": "d3b64e6f-3662-48fe-bcec-ba6da19f60f9",
   "metadata": {},
   "source": [
    "Now, lets iterate through our data and collect only those tickers that have `maximum_number_trading_days` records. Save that data in the `dataset::Dict{String,DataFrame}` variable:"
   ]
  },
  {
   "cell_type": "code",
   "execution_count": 4,
   "id": "9b263c2a-7cb2-42ef-a700-b857aeb22f8e",
   "metadata": {
    "tags": []
   },
   "outputs": [],
   "source": [
    "dataset = Dict{String,DataFrame}();\n",
    "for (ticker,data) ∈ original_dataset\n",
    "    if (nrow(data) == maximum_number_trading_days)\n",
    "        dataset[ticker] = data;\n",
    "    end\n",
    "end\n",
    "dataset;"
   ]
  },
  {
   "cell_type": "markdown",
   "id": "5ffb1bec-88c3-4648-b7e9-9b1300504b4a",
   "metadata": {},
   "source": [
    "Let's get a list of firms that we have in cleaned up `dataset`, and save it in the `all_tickers` array:"
   ]
  },
  {
   "cell_type": "code",
   "execution_count": 5,
   "id": "93f5fc90-048c-4e23-83da-8a362b297f77",
   "metadata": {
    "tags": []
   },
   "outputs": [],
   "source": [
    "all_tickers = keys(dataset) |> collect |> sort;\n",
    "K = length(all_tickers);"
   ]
  },
  {
   "cell_type": "markdown",
   "id": "1266557c-c5ce-4c67-9f93-7dcdb3038e26",
   "metadata": {},
   "source": [
    "### Get the 2023 `SPY` data"
   ]
  },
  {
   "cell_type": "code",
   "execution_count": 6,
   "id": "b700d807-61d8-4d3c-8c78-0908bcd81855",
   "metadata": {
    "tags": []
   },
   "outputs": [],
   "source": [
    "startdate = Date(2023,01,03);\n",
    "SPY_dataset = dataset[\"SPY\"];\n",
    "SPY_df = filter(:timestamp => x-> x >= startdate, SPY_dataset);"
   ]
  },
  {
   "cell_type": "markdown",
   "id": "9d07c6db-65c2-424b-878e-652936db2032",
   "metadata": {},
   "source": [
    "### Compute the expected return for all firms in the dataset\n",
    "The expected return $\\mathbb{E}(r_{i})$ and covariance matrix $\\Sigma$ will be used in our calculations, so we'll provide values for both of these items for the entire data set (all `N = 459` tickers), and then you can pick out which tickers you are interested in. \n",
    "\n",
    "* First, we compute the expected (annualized) log return by passing the `dataset` and the entire list of firms we have in the dataset (held in the $N\\times{1}$ `all_array` array) to the `log_return_matrix(...)` method. The result is stored in the `all_firms_return_matrix` variable, a $T-1\\times{N}$ array of log return values. Each row of `all_firms_return_matrix` corresponds to a time-value, while each column corresponds to a firm:"
   ]
  },
  {
   "cell_type": "code",
   "execution_count": 7,
   "id": "870a7ff9-d78c-4313-8e75-92cc67dc0858",
   "metadata": {
    "tags": []
   },
   "outputs": [],
   "source": [
    "all_firms_return_matrix = log_return_matrix(dataset, all_tickers, \n",
    "    Δt = (1.0/252.0), risk_free_rate = 0.0);"
   ]
  },
  {
   "cell_type": "markdown",
   "id": "2347705b-730c-44c2-ab83-4be788669bd9",
   "metadata": {},
   "source": [
    "## Your project starts here ...."
   ]
  },
  {
   "cell_type": "code",
   "execution_count": 8,
   "id": "333476f6-b931-4477-85e4-5cf8d2e5a50a",
   "metadata": {
    "tags": []
   },
   "outputs": [],
   "source": [
    "## Fill me in"
   ]
  },
  {
   "cell_type": "code",
   "execution_count": 9,
   "id": "0b71e563-943d-4c49-8420-7b962e8fdab5",
   "metadata": {},
   "outputs": [
    {
     "data": {
      "text/html": [
       "<div><div style = \"float: left;\"><span>1489×8 DataFrame</span></div><div style = \"float: right;\"><span style = \"font-style: italic;\">1464 rows omitted</span></div><div style = \"clear: both;\"></div></div><div class = \"data-frame\" style = \"overflow-x: scroll;\"><table class = \"data-frame\" style = \"margin-bottom: 6px;\"><thead><tr class = \"header\"><th class = \"rowNumber\" style = \"font-weight: bold; text-align: right;\">Row</th><th style = \"text-align: left;\">volume</th><th style = \"text-align: left;\">volume_weighted_average_price</th><th style = \"text-align: left;\">open</th><th style = \"text-align: left;\">close</th><th style = \"text-align: left;\">high</th><th style = \"text-align: left;\">low</th><th style = \"text-align: left;\">timestamp</th><th style = \"text-align: left;\">number_of_transactions</th></tr><tr class = \"subheader headerLastRow\"><th class = \"rowNumber\" style = \"font-weight: bold; text-align: right;\"></th><th title = \"Float64\" style = \"text-align: left;\">Float64</th><th title = \"Float64\" style = \"text-align: left;\">Float64</th><th title = \"Float64\" style = \"text-align: left;\">Float64</th><th title = \"Float64\" style = \"text-align: left;\">Float64</th><th title = \"Float64\" style = \"text-align: left;\">Float64</th><th title = \"Float64\" style = \"text-align: left;\">Float64</th><th title = \"DateTime\" style = \"text-align: left;\">DateTime</th><th title = \"Int64\" style = \"text-align: left;\">Int64</th></tr></thead><tbody><tr><td class = \"rowNumber\" style = \"font-weight: bold; text-align: right;\">1</td><td style = \"text-align: right;\">2.93836e7</td><td style = \"text-align: right;\">159.666</td><td style = \"text-align: right;\">158.61</td><td style = \"text-align: right;\">160.03</td><td style = \"text-align: right;\">160.17</td><td style = \"text-align: right;\">158.61</td><td style = \"text-align: left;\">2018-01-03T05:00:00</td><td style = \"text-align: right;\">89156</td></tr><tr><td class = \"rowNumber\" style = \"font-weight: bold; text-align: right;\">2</td><td style = \"text-align: right;\">2.47761e7</td><td style = \"text-align: right;\">160.368</td><td style = \"text-align: right;\">160.59</td><td style = \"text-align: right;\">160.31</td><td style = \"text-align: right;\">160.79</td><td style = \"text-align: right;\">160.083</td><td style = \"text-align: left;\">2018-01-04T05:00:00</td><td style = \"text-align: right;\">84937</td></tr><tr><td class = \"rowNumber\" style = \"font-weight: bold; text-align: right;\">3</td><td style = \"text-align: right;\">2.69923e7</td><td style = \"text-align: right;\">161.426</td><td style = \"text-align: right;\">161.04</td><td style = \"text-align: right;\">161.92</td><td style = \"text-align: right;\">162.03</td><td style = \"text-align: right;\">160.77</td><td style = \"text-align: left;\">2018-01-05T05:00:00</td><td style = \"text-align: right;\">81821</td></tr><tr><td class = \"rowNumber\" style = \"font-weight: bold; text-align: right;\">4</td><td style = \"text-align: right;\">2.31591e7</td><td style = \"text-align: right;\">162.279</td><td style = \"text-align: right;\">161.9</td><td style = \"text-align: right;\">162.55</td><td style = \"text-align: right;\">162.63</td><td style = \"text-align: right;\">161.86</td><td style = \"text-align: left;\">2018-01-08T05:00:00</td><td style = \"text-align: right;\">61794</td></tr><tr><td class = \"rowNumber\" style = \"font-weight: bold; text-align: right;\">5</td><td style = \"text-align: right;\">2.47824e7</td><td style = \"text-align: right;\">162.607</td><td style = \"text-align: right;\">162.85</td><td style = \"text-align: right;\">162.56</td><td style = \"text-align: right;\">163.04</td><td style = \"text-align: right;\">162.07</td><td style = \"text-align: left;\">2018-01-09T05:00:00</td><td style = \"text-align: right;\">78992</td></tr><tr><td class = \"rowNumber\" style = \"font-weight: bold; text-align: right;\">6</td><td style = \"text-align: right;\">3.4004e7</td><td style = \"text-align: right;\">161.881</td><td style = \"text-align: right;\">161.8</td><td style = \"text-align: right;\">162.18</td><td style = \"text-align: right;\">162.21</td><td style = \"text-align: right;\">161.12</td><td style = \"text-align: left;\">2018-01-10T05:00:00</td><td style = \"text-align: right;\">98177</td></tr><tr><td class = \"rowNumber\" style = \"font-weight: bold; text-align: right;\">7</td><td style = \"text-align: right;\">2.04735e7</td><td style = \"text-align: right;\">162.763</td><td style = \"text-align: right;\">162.48</td><td style = \"text-align: right;\">163.29</td><td style = \"text-align: right;\">163.3</td><td style = \"text-align: right;\">162.21</td><td style = \"text-align: left;\">2018-01-11T05:00:00</td><td style = \"text-align: right;\">62727</td></tr><tr><td class = \"rowNumber\" style = \"font-weight: bold; text-align: right;\">8</td><td style = \"text-align: right;\">3.77627e7</td><td style = \"text-align: right;\">163.871</td><td style = \"text-align: right;\">163.03</td><td style = \"text-align: right;\">164.49</td><td style = \"text-align: right;\">164.66</td><td style = \"text-align: right;\">162.94</td><td style = \"text-align: left;\">2018-01-12T05:00:00</td><td style = \"text-align: right;\">81096</td></tr><tr><td class = \"rowNumber\" style = \"font-weight: bold; text-align: right;\">9</td><td style = \"text-align: right;\">4.12318e7</td><td style = \"text-align: right;\">164.867</td><td style = \"text-align: right;\">165.55</td><td style = \"text-align: right;\">164.02</td><td style = \"text-align: right;\">166.415</td><td style = \"text-align: right;\">163.53</td><td style = \"text-align: left;\">2018-01-16T05:00:00</td><td style = \"text-align: right;\">150982</td></tr><tr><td class = \"rowNumber\" style = \"font-weight: bold; text-align: right;\">10</td><td style = \"text-align: right;\">3.38499e7</td><td style = \"text-align: right;\">165.084</td><td style = \"text-align: right;\">164.77</td><td style = \"text-align: right;\">165.79</td><td style = \"text-align: right;\">166.04</td><td style = \"text-align: right;\">164.03</td><td style = \"text-align: left;\">2018-01-17T05:00:00</td><td style = \"text-align: right;\">116294</td></tr><tr><td class = \"rowNumber\" style = \"font-weight: bold; text-align: right;\">11</td><td style = \"text-align: right;\">2.63497e7</td><td style = \"text-align: right;\">165.738</td><td style = \"text-align: right;\">165.55</td><td style = \"text-align: right;\">165.82</td><td style = \"text-align: right;\">166.2</td><td style = \"text-align: right;\">165.135</td><td style = \"text-align: left;\">2018-01-18T05:00:00</td><td style = \"text-align: right;\">92822</td></tr><tr><td class = \"rowNumber\" style = \"font-weight: bold; text-align: right;\">12</td><td style = \"text-align: right;\">3.84376e7</td><td style = \"text-align: right;\">166.042</td><td style = \"text-align: right;\">166.32</td><td style = \"text-align: right;\">166.34</td><td style = \"text-align: right;\">166.61</td><td style = \"text-align: right;\">165.535</td><td style = \"text-align: left;\">2018-01-19T05:00:00</td><td style = \"text-align: right;\">93267</td></tr><tr><td class = \"rowNumber\" style = \"font-weight: bold; text-align: right;\">13</td><td style = \"text-align: right;\">2.60814e7</td><td style = \"text-align: right;\">167.318</td><td style = \"text-align: right;\">166.27</td><td style = \"text-align: right;\">168.12</td><td style = \"text-align: right;\">168.12</td><td style = \"text-align: right;\">166.09</td><td style = \"text-align: left;\">2018-01-22T05:00:00</td><td style = \"text-align: right;\">83659</td></tr><tr><td style = \"text-align: right;\">&vellip;</td><td style = \"text-align: right;\">&vellip;</td><td style = \"text-align: right;\">&vellip;</td><td style = \"text-align: right;\">&vellip;</td><td style = \"text-align: right;\">&vellip;</td><td style = \"text-align: right;\">&vellip;</td><td style = \"text-align: right;\">&vellip;</td><td style = \"text-align: right;\">&vellip;</td><td style = \"text-align: right;\">&vellip;</td></tr><tr><td class = \"rowNumber\" style = \"font-weight: bold; text-align: right;\">1478</td><td style = \"text-align: right;\">5.41414e7</td><td style = \"text-align: right;\">386.131</td><td style = \"text-align: right;\">387.25</td><td style = \"text-align: right;\">385.62</td><td style = \"text-align: right;\">387.75</td><td style = \"text-align: right;\">384.235</td><td style = \"text-align: left;\">2023-11-15T05:00:00</td><td style = \"text-align: right;\">401930</td></tr><tr><td class = \"rowNumber\" style = \"font-weight: bold; text-align: right;\">1479</td><td style = \"text-align: right;\">4.53354e7</td><td style = \"text-align: right;\">385.127</td><td style = \"text-align: right;\">384.84</td><td style = \"text-align: right;\">385.95</td><td style = \"text-align: right;\">386.19</td><td style = \"text-align: right;\">383.56</td><td style = \"text-align: left;\">2023-11-16T05:00:00</td><td style = \"text-align: right;\">391464</td></tr><tr><td class = \"rowNumber\" style = \"font-weight: bold; text-align: right;\">1480</td><td style = \"text-align: right;\">4.64717e7</td><td style = \"text-align: right;\">385.714</td><td style = \"text-align: right;\">385.21</td><td style = \"text-align: right;\">386.04</td><td style = \"text-align: right;\">387.07</td><td style = \"text-align: right;\">384.29</td><td style = \"text-align: left;\">2023-11-17T05:00:00</td><td style = \"text-align: right;\">299353</td></tr><tr><td class = \"rowNumber\" style = \"font-weight: bold; text-align: right;\">1481</td><td style = \"text-align: right;\">4.45272e7</td><td style = \"text-align: right;\">389.408</td><td style = \"text-align: right;\">386.05</td><td style = \"text-align: right;\">390.74</td><td style = \"text-align: right;\">391.41</td><td style = \"text-align: right;\">386.05</td><td style = \"text-align: left;\">2023-11-20T05:00:00</td><td style = \"text-align: right;\">367275</td></tr><tr><td class = \"rowNumber\" style = \"font-weight: bold; text-align: right;\">1482</td><td style = \"text-align: right;\">4.3322e7</td><td style = \"text-align: right;\">388.146</td><td style = \"text-align: right;\">389.01</td><td style = \"text-align: right;\">388.47</td><td style = \"text-align: right;\">389.23</td><td style = \"text-align: right;\">386.7</td><td style = \"text-align: left;\">2023-11-21T05:00:00</td><td style = \"text-align: right;\">326928</td></tr><tr><td class = \"rowNumber\" style = \"font-weight: bold; text-align: right;\">1483</td><td style = \"text-align: right;\">4.39538e7</td><td style = \"text-align: right;\">390.501</td><td style = \"text-align: right;\">390.57</td><td style = \"text-align: right;\">390.06</td><td style = \"text-align: right;\">393.07</td><td style = \"text-align: right;\">389.04</td><td style = \"text-align: left;\">2023-11-22T05:00:00</td><td style = \"text-align: right;\">370583</td></tr><tr><td class = \"rowNumber\" style = \"font-weight: bold; text-align: right;\">1484</td><td style = \"text-align: right;\">1.56998e7</td><td style = \"text-align: right;\">389.36</td><td style = \"text-align: right;\">389.65</td><td style = \"text-align: right;\">389.51</td><td style = \"text-align: right;\">390.25</td><td style = \"text-align: right;\">388.5</td><td style = \"text-align: left;\">2023-11-24T05:00:00</td><td style = \"text-align: right;\">140538</td></tr><tr><td class = \"rowNumber\" style = \"font-weight: bold; text-align: right;\">1485</td><td style = \"text-align: right;\">3.40892e7</td><td style = \"text-align: right;\">389.735</td><td style = \"text-align: right;\">389.01</td><td style = \"text-align: right;\">389.17</td><td style = \"text-align: right;\">391.15</td><td style = \"text-align: right;\">388.28</td><td style = \"text-align: left;\">2023-11-27T05:00:00</td><td style = \"text-align: right;\">305863</td></tr><tr><td class = \"rowNumber\" style = \"font-weight: bold; text-align: right;\">1486</td><td style = \"text-align: right;\">3.54852e7</td><td style = \"text-align: right;\">389.335</td><td style = \"text-align: right;\">388.41</td><td style = \"text-align: right;\">390.19</td><td style = \"text-align: right;\">390.78</td><td style = \"text-align: right;\">388.05</td><td style = \"text-align: left;\">2023-11-28T05:00:00</td><td style = \"text-align: right;\">283232</td></tr><tr><td class = \"rowNumber\" style = \"font-weight: bold; text-align: right;\">1487</td><td style = \"text-align: right;\">3.87245e7</td><td style = \"text-align: right;\">391.312</td><td style = \"text-align: right;\">392.69</td><td style = \"text-align: right;\">389.81</td><td style = \"text-align: right;\">394.14</td><td style = \"text-align: right;\">389.46</td><td style = \"text-align: left;\">2023-11-29T05:00:00</td><td style = \"text-align: right;\">305009</td></tr><tr><td class = \"rowNumber\" style = \"font-weight: bold; text-align: right;\">1488</td><td style = \"text-align: right;\">5.28344e7</td><td style = \"text-align: right;\">388.04</td><td style = \"text-align: right;\">390.08</td><td style = \"text-align: right;\">388.83</td><td style = \"text-align: right;\">390.55</td><td style = \"text-align: right;\">385.82</td><td style = \"text-align: left;\">2023-11-30T05:00:00</td><td style = \"text-align: right;\">366670</td></tr><tr><td class = \"rowNumber\" style = \"font-weight: bold; text-align: right;\">1489</td><td style = \"text-align: right;\">4.04861e7</td><td style = \"text-align: right;\">388.782</td><td style = \"text-align: right;\">387.75</td><td style = \"text-align: right;\">389.94</td><td style = \"text-align: right;\">390.54</td><td style = \"text-align: right;\">386.073</td><td style = \"text-align: left;\">2023-12-01T05:00:00</td><td style = \"text-align: right;\">377497</td></tr></tbody></table></div>"
      ],
      "text/latex": [
       "\\begin{tabular}{r|cccccccc}\n",
       "\t& volume & volume\\_weighted\\_average\\_price & open & close & high & low & timestamp & \\\\\n",
       "\t\\hline\n",
       "\t& Float64 & Float64 & Float64 & Float64 & Float64 & Float64 & DateTime & \\\\\n",
       "\t\\hline\n",
       "\t1 & 2.93836e7 & 159.666 & 158.61 & 160.03 & 160.17 & 158.61 & 2018-01-03T05:00:00 & $\\dots$ \\\\\n",
       "\t2 & 2.47761e7 & 160.368 & 160.59 & 160.31 & 160.79 & 160.083 & 2018-01-04T05:00:00 & $\\dots$ \\\\\n",
       "\t3 & 2.69923e7 & 161.426 & 161.04 & 161.92 & 162.03 & 160.77 & 2018-01-05T05:00:00 & $\\dots$ \\\\\n",
       "\t4 & 2.31591e7 & 162.279 & 161.9 & 162.55 & 162.63 & 161.86 & 2018-01-08T05:00:00 & $\\dots$ \\\\\n",
       "\t5 & 2.47824e7 & 162.607 & 162.85 & 162.56 & 163.04 & 162.07 & 2018-01-09T05:00:00 & $\\dots$ \\\\\n",
       "\t6 & 3.4004e7 & 161.881 & 161.8 & 162.18 & 162.21 & 161.12 & 2018-01-10T05:00:00 & $\\dots$ \\\\\n",
       "\t7 & 2.04735e7 & 162.763 & 162.48 & 163.29 & 163.3 & 162.21 & 2018-01-11T05:00:00 & $\\dots$ \\\\\n",
       "\t8 & 3.77627e7 & 163.871 & 163.03 & 164.49 & 164.66 & 162.94 & 2018-01-12T05:00:00 & $\\dots$ \\\\\n",
       "\t9 & 4.12318e7 & 164.867 & 165.55 & 164.02 & 166.415 & 163.53 & 2018-01-16T05:00:00 & $\\dots$ \\\\\n",
       "\t10 & 3.38499e7 & 165.084 & 164.77 & 165.79 & 166.04 & 164.03 & 2018-01-17T05:00:00 & $\\dots$ \\\\\n",
       "\t11 & 2.63497e7 & 165.738 & 165.55 & 165.82 & 166.2 & 165.135 & 2018-01-18T05:00:00 & $\\dots$ \\\\\n",
       "\t12 & 3.84376e7 & 166.042 & 166.32 & 166.34 & 166.61 & 165.535 & 2018-01-19T05:00:00 & $\\dots$ \\\\\n",
       "\t13 & 2.60814e7 & 167.318 & 166.27 & 168.12 & 168.12 & 166.09 & 2018-01-22T05:00:00 & $\\dots$ \\\\\n",
       "\t14 & 3.79896e7 & 169.181 & 168.64 & 169.51 & 169.66 & 168.555 & 2018-01-23T05:00:00 & $\\dots$ \\\\\n",
       "\t15 & 5.42874e7 & 168.857 & 169.81 & 168.41 & 170.24 & 167.44 & 2018-01-24T05:00:00 & $\\dots$ \\\\\n",
       "\t16 & 2.8925e7 & 168.692 & 169.55 & 168.35 & 169.63 & 167.81 & 2018-01-25T05:00:00 & $\\dots$ \\\\\n",
       "\t17 & 3.20382e7 & 169.911 & 169.27 & 170.93 & 170.952 & 168.96 & 2018-01-26T05:00:00 & $\\dots$ \\\\\n",
       "\t18 & 3.72778e7 & 170.378 & 170.52 & 170.1 & 170.91 & 169.74 & 2018-01-29T05:00:00 & $\\dots$ \\\\\n",
       "\t19 & 4.49877e7 & 168.808 & 168.55 & 168.7 & 169.42 & 167.82 & 2018-01-30T05:00:00 & $\\dots$ \\\\\n",
       "\t20 & 4.24492e7 & 169.295 & 169.67 & 169.4 & 169.99 & 168.34 & 2018-01-31T05:00:00 & $\\dots$ \\\\\n",
       "\t21 & 3.80379e7 & 168.641 & 168.12 & 167.96 & 169.73 & 167.42 & 2018-02-01T05:00:00 & $\\dots$ \\\\\n",
       "\t22 & 6.84781e7 & 165.903 & 167.34 & 164.61 & 167.7 & 164.47 & 2018-02-02T05:00:00 & $\\dots$ \\\\\n",
       "\t23 & 1.05372e8 & 161.951 & 163.13 & 158.12 & 165.75 & 158.0 & 2018-02-05T05:00:00 & $\\dots$ \\\\\n",
       "\t24 & 1.18538e8 & 159.004 & 155.96 & 162.31 & 162.51 & 155.1 & 2018-02-06T05:00:00 & $\\dots$ \\\\\n",
       "\t25 & 9.10283e7 & 161.747 & 161.79 & 160.21 & 163.55 & 160.2 & 2018-02-07T05:00:00 & $\\dots$ \\\\\n",
       "\t26 & 9.41288e7 & 157.407 & 160.69 & 153.45 & 160.8 & 153.45 & 2018-02-08T05:00:00 & $\\dots$ \\\\\n",
       "\t27 & 1.13597e8 & 154.009 & 155.66 & 156.1 & 157.24 & 150.125 & 2018-02-09T05:00:00 & $\\dots$ \\\\\n",
       "\t28 & 6.30506e7 & 158.339 & 157.67 & 158.87 & 159.95 & 156.46 & 2018-02-12T05:00:00 & $\\dots$ \\\\\n",
       "\t29 & 3.17856e7 & 159.098 & 157.98 & 159.69 & 160.01 & 157.72 & 2018-02-13T05:00:00 & $\\dots$ \\\\\n",
       "\t30 & 5.21074e7 & 161.162 & 158.79 & 162.68 & 162.93 & 158.0 & 2018-02-14T05:00:00 & $\\dots$ \\\\\n",
       "\t$\\dots$ & $\\dots$ & $\\dots$ & $\\dots$ & $\\dots$ & $\\dots$ & $\\dots$ & $\\dots$ &  \\\\\n",
       "\\end{tabular}\n"
      ],
      "text/plain": [
       "\u001b[1m1489×8 DataFrame\u001b[0m\n",
       "\u001b[1m  Row \u001b[0m│\u001b[1m volume    \u001b[0m\u001b[1m volume_weighted_average_price \u001b[0m\u001b[1m open    \u001b[0m\u001b[1m close   \u001b[0m\u001b[1m high    \u001b[0m\u001b[1m l\u001b[0m ⋯\n",
       "      │\u001b[90m Float64   \u001b[0m\u001b[90m Float64                       \u001b[0m\u001b[90m Float64 \u001b[0m\u001b[90m Float64 \u001b[0m\u001b[90m Float64 \u001b[0m\u001b[90m F\u001b[0m ⋯\n",
       "──────┼─────────────────────────────────────────────────────────────────────────\n",
       "    1 │ 2.93836e7                        159.666   158.61   160.03  160.17   1 ⋯\n",
       "    2 │ 2.47761e7                        160.368   160.59   160.31  160.79   1\n",
       "    3 │ 2.69923e7                        161.426   161.04   161.92  162.03   1\n",
       "    4 │ 2.31591e7                        162.279   161.9    162.55  162.63   1\n",
       "    5 │ 2.47824e7                        162.607   162.85   162.56  163.04   1 ⋯\n",
       "    6 │ 3.4004e7                         161.881   161.8    162.18  162.21   1\n",
       "    7 │ 2.04735e7                        162.763   162.48   163.29  163.3    1\n",
       "    8 │ 3.77627e7                        163.871   163.03   164.49  164.66   1\n",
       "    9 │ 4.12318e7                        164.867   165.55   164.02  166.415  1 ⋯\n",
       "   10 │ 3.38499e7                        165.084   164.77   165.79  166.04   1\n",
       "   11 │ 2.63497e7                        165.738   165.55   165.82  166.2    1\n",
       "  ⋮   │     ⋮                    ⋮                   ⋮        ⋮        ⋮       ⋱\n",
       " 1480 │ 4.64717e7                        385.714   385.21   386.04  387.07   3\n",
       " 1481 │ 4.45272e7                        389.408   386.05   390.74  391.41   3 ⋯\n",
       " 1482 │ 4.3322e7                         388.146   389.01   388.47  389.23   3\n",
       " 1483 │ 4.39538e7                        390.501   390.57   390.06  393.07   3\n",
       " 1484 │ 1.56998e7                        389.36    389.65   389.51  390.25   3\n",
       " 1485 │ 3.40892e7                        389.735   389.01   389.17  391.15   3 ⋯\n",
       " 1486 │ 3.54852e7                        389.335   388.41   390.19  390.78   3\n",
       " 1487 │ 3.87245e7                        391.312   392.69   389.81  394.14   3\n",
       " 1488 │ 5.28344e7                        388.04    390.08   388.83  390.55   3\n",
       " 1489 │ 4.04861e7                        388.782   387.75   389.94  390.54   3 ⋯\n",
       "\u001b[36m                                                 3 columns and 1468 rows omitted\u001b[0m"
      ]
     },
     "execution_count": 9,
     "metadata": {},
     "output_type": "execute_result"
    }
   ],
   "source": [
    "dataset[\"QQQ\"]"
   ]
  },
  {
   "cell_type": "markdown",
   "id": "b3b5cd21-bb87-4bb0-b2e3-29391ba3859f",
   "metadata": {},
   "source": [
    "## Disclaimer and Risks\n",
    "__This content is offered solely for training and  informational purposes__. No offer or solicitation to buy or sell securities or derivative products, or any investment or trading advice or strategy,  is made, given, or endorsed by the teaching team. \n",
    "\n",
    "__Trading involves risk__. Carefully review your financial situation before investing in securities, futures contracts, options, or commodity interests. Past performance, whether actual or indicated by historical tests of strategies, is no guarantee of future performance or success. Trading is generally inappropriate for someone with limited resources, investment or trading experience, or a low-risk tolerance.  Only risk capital that is not required for living expenses.\n",
    "\n",
    "__You are fully responsible for any investment or trading decisions you make__. Such decisions should be based solely on your evaluation of your financial circumstances, investment or trading objectives, risk tolerance, and liquidity needs."
   ]
  }
 ],
 "metadata": {
  "kernelspec": {
   "display_name": "Julia 1.9.3",
   "language": "julia",
   "name": "julia-1.9"
  },
  "language_info": {
   "file_extension": ".jl",
   "mimetype": "application/julia",
   "name": "julia",
   "version": "1.9.3"
  }
 },
 "nbformat": 4,
 "nbformat_minor": 5
}
